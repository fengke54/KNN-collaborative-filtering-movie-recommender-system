{
 "cells": [
  {
   "cell_type": "code",
   "execution_count": 1,
   "metadata": {},
   "outputs": [
    {
     "name": "stderr",
     "output_type": "stream",
     "text": [
      "C:\\Anaconda3\\lib\\site-packages\\fuzzywuzzy\\fuzz.py:11: UserWarning: Using slow pure-python SequenceMatcher. Install python-Levenshtein to remove this warning\n",
      "  warnings.warn('Using slow pure-python SequenceMatcher. Install python-Levenshtein to remove this warning')\n"
     ]
    }
   ],
   "source": [
    "import os\n",
    "import time\n",
    "import math\n",
    "import numpy as np\n",
    "import pandas as pd\n",
    "from scipy.sparse import csr_matrix\n",
    "from sklearn.neighbors import NearestNeighbors\n",
    "from fuzzywuzzy import fuzz\n",
    "import seaborn as sns\n",
    "import matplotlib.pyplot as plt\n",
    "plt.style.use('ggplot')\n",
    "from collections import deque\n",
    "%matplotlib inline"
   ]
  },
  {
   "cell_type": "code",
   "execution_count": 2,
   "metadata": {},
   "outputs": [
    {
     "name": "stdout",
     "output_type": "stream",
     "text": [
      "Shape User-Ratings:\t(24053764, 4)\n"
     ]
    },
    {
     "data": {
      "text/html": [
       "<div>\n",
       "<style scoped>\n",
       "    .dataframe tbody tr th:only-of-type {\n",
       "        vertical-align: middle;\n",
       "    }\n",
       "\n",
       "    .dataframe tbody tr th {\n",
       "        vertical-align: top;\n",
       "    }\n",
       "\n",
       "    .dataframe thead th {\n",
       "        text-align: right;\n",
       "    }\n",
       "</style>\n",
       "<table border=\"1\" class=\"dataframe\">\n",
       "  <thead>\n",
       "    <tr style=\"text-align: right;\">\n",
       "      <th></th>\n",
       "      <th>User</th>\n",
       "      <th>Rating</th>\n",
       "      <th>Date</th>\n",
       "      <th>Movie</th>\n",
       "    </tr>\n",
       "  </thead>\n",
       "  <tbody>\n",
       "    <tr>\n",
       "      <th>6416532</th>\n",
       "      <td>1715565</td>\n",
       "      <td>5.0</td>\n",
       "      <td>2004-09-25</td>\n",
       "      <td>1255</td>\n",
       "    </tr>\n",
       "    <tr>\n",
       "      <th>22239040</th>\n",
       "      <td>2568959</td>\n",
       "      <td>3.0</td>\n",
       "      <td>2005-07-01</td>\n",
       "      <td>4216</td>\n",
       "    </tr>\n",
       "    <tr>\n",
       "      <th>6278485</th>\n",
       "      <td>737833</td>\n",
       "      <td>5.0</td>\n",
       "      <td>2004-11-29</td>\n",
       "      <td>1220</td>\n",
       "    </tr>\n",
       "    <tr>\n",
       "      <th>15183479</th>\n",
       "      <td>1121411</td>\n",
       "      <td>3.0</td>\n",
       "      <td>2005-06-20</td>\n",
       "      <td>2913</td>\n",
       "    </tr>\n",
       "    <tr>\n",
       "      <th>20983002</th>\n",
       "      <td>2257854</td>\n",
       "      <td>5.0</td>\n",
       "      <td>2005-10-10</td>\n",
       "      <td>3938</td>\n",
       "    </tr>\n",
       "  </tbody>\n",
       "</table>\n",
       "</div>"
      ],
      "text/plain": [
       "             User  Rating        Date  Movie\n",
       "6416532   1715565     5.0  2004-09-25   1255\n",
       "22239040  2568959     3.0  2005-07-01   4216\n",
       "6278485    737833     5.0  2004-11-29   1220\n",
       "15183479  1121411     3.0  2005-06-20   2913\n",
       "20983002  2257854     5.0  2005-10-10   3938"
      ]
     },
     "execution_count": 2,
     "metadata": {},
     "output_type": "execute_result"
    }
   ],
   "source": [
    "#####Data Import \n",
    "#This step is to icorporate movie ID into the original data \n",
    "#Reference: https://www.kaggle.com/morrisb/how-to-recommend-anything-deep-recommender\n",
    "#laod the user data\n",
    "# Load single data-file\n",
    "dfuser = pd.read_csv('combined_data_1.txt', header=None, names=['User', 'Rating', 'Date'], usecols=[0, 1, 2])\n",
    "# Find empty rows to slice dataframe for each movie\n",
    "tmpmovies = dfuser[dfuser['Rating'].isna()]['User'].reset_index()\n",
    "movieindice = [[index, int(movie[:-1])] for index, movie in tmpmovies.values]\n",
    "# Shift the movie_indices by one to get start and endpoints of all movies\n",
    "shifted = deque(movieindice)\n",
    "shifted.rotate(-1)\n",
    "# Gather all dataframes\n",
    "user_data = []\n",
    "# Iterate over all movies\n",
    "for [df_id_1, movieid], [df_id_2, nextmovieid] in zip(movieindice, shifted): \n",
    "    # Check if it is the last movie in the file\n",
    "    if df_id_1<df_id_2:\n",
    "        tmp_df = dfuser.loc[df_id_1+1:df_id_2-1].copy()\n",
    "    else:\n",
    "        tmp_df = dfuser.loc[df_id_1+1:].copy()  \n",
    "    # Create movie_id column\n",
    "    tmp_df['Movie'] = movieid\n",
    "    # Append dataframe to list\n",
    "    user_data.append(tmp_df)\n",
    "# Combine all dataframes\n",
    "newdf = pd.concat(user_data)\n",
    "del user_data, dfuser, tmpmovies, tmp_df, shifted, movieindice, df_id_1, movieid, df_id_2, nextmovieid\n",
    "print('Shape User-Ratings:\\t{}'.format(newdf.shape))\n",
    "newdf.sample(5)"
   ]
  },
  {
   "cell_type": "code",
   "execution_count": 3,
   "metadata": {},
   "outputs": [],
   "source": [
    "ratings=newdf"
   ]
  },
  {
   "cell_type": "code",
   "execution_count": 4,
   "metadata": {},
   "outputs": [
    {
     "data": {
      "text/html": [
       "<div>\n",
       "<style scoped>\n",
       "    .dataframe tbody tr th:only-of-type {\n",
       "        vertical-align: middle;\n",
       "    }\n",
       "\n",
       "    .dataframe tbody tr th {\n",
       "        vertical-align: top;\n",
       "    }\n",
       "\n",
       "    .dataframe thead th {\n",
       "        text-align: right;\n",
       "    }\n",
       "</style>\n",
       "<table border=\"1\" class=\"dataframe\">\n",
       "  <thead>\n",
       "    <tr style=\"text-align: right;\">\n",
       "      <th></th>\n",
       "      <th>Movie_Id</th>\n",
       "      <th>Name</th>\n",
       "    </tr>\n",
       "  </thead>\n",
       "  <tbody>\n",
       "    <tr>\n",
       "      <th>0</th>\n",
       "      <td>1</td>\n",
       "      <td>Dinosaur Planet</td>\n",
       "    </tr>\n",
       "    <tr>\n",
       "      <th>1</th>\n",
       "      <td>2</td>\n",
       "      <td>Isle of Man TT 2004 Review</td>\n",
       "    </tr>\n",
       "    <tr>\n",
       "      <th>2</th>\n",
       "      <td>3</td>\n",
       "      <td>Character</td>\n",
       "    </tr>\n",
       "    <tr>\n",
       "      <th>3</th>\n",
       "      <td>4</td>\n",
       "      <td>Paula Abdul's Get Up &amp; Dance</td>\n",
       "    </tr>\n",
       "    <tr>\n",
       "      <th>4</th>\n",
       "      <td>5</td>\n",
       "      <td>The Rise and Fall of ECW</td>\n",
       "    </tr>\n",
       "  </tbody>\n",
       "</table>\n",
       "</div>"
      ],
      "text/plain": [
       "   Movie_Id                          Name\n",
       "0         1               Dinosaur Planet\n",
       "1         2    Isle of Man TT 2004 Review\n",
       "2         3                     Character\n",
       "3         4  Paula Abdul's Get Up & Dance\n",
       "4         5      The Rise and Fall of ECW"
      ]
     },
     "execution_count": 4,
     "metadata": {},
     "output_type": "execute_result"
    }
   ],
   "source": [
    "df_title = pd.read_csv('titles.csv', encoding = \"ISO-8859-1\", header = None, names = ['Movie_Id', 'Year', 'Name'])\n",
    "df_title=df_title.drop(columns=['Year'])\n",
    "df_title=df_title.dropna()\n",
    "df_title.head()"
   ]
  },
  {
   "cell_type": "code",
   "execution_count": 5,
   "metadata": {},
   "outputs": [
    {
     "name": "stdout",
     "output_type": "stream",
     "text": [
      "      User  Rating        Date  Movie\n",
      "1  1488844     3.0  2005-09-06      1\n",
      "2   822109     5.0  2005-05-13      1\n",
      "3   885013     4.0  2005-10-19      1\n",
      "4    30878     4.0  2005-12-26      1\n",
      "5   823519     3.0  2004-05-03      1\n",
      "   Movie_Id                          Name\n",
      "0         1               Dinosaur Planet\n",
      "1         2    Isle of Man TT 2004 Review\n",
      "2         3                     Character\n",
      "3         4  Paula Abdul's Get Up & Dance\n",
      "4         5      The Rise and Fall of ECW\n"
     ]
    }
   ],
   "source": [
    "print(ratings.head())\n",
    "print(df_title.head())"
   ]
  },
  {
   "cell_type": "code",
   "execution_count": 6,
   "metadata": {},
   "outputs": [
    {
     "name": "stdout",
     "output_type": "stream",
     "text": [
      "Number of Unique Users: 470758\n",
      "Number of Unique Movies 4499\n"
     ]
    }
   ],
   "source": [
    "num_users = len(ratings.User.unique())\n",
    "num_items = len(ratings.Movie.unique())\n",
    "print('Number of Unique Users:', num_users)\n",
    "print('Number of Unique Movies', num_items)"
   ]
  },
  {
   "cell_type": "code",
   "execution_count": 7,
   "metadata": {},
   "outputs": [
    {
     "name": "stdout",
     "output_type": "stream",
     "text": [
      "          count\n",
      "Rating         \n",
      "1.0     1118186\n",
      "2.0     2439073\n",
      "3.0     6904181\n",
      "4.0     8085741\n",
      "5.0     5506583\n",
      "          count\n",
      "0.0  2093886478\n",
      "1.0     1118186\n",
      "2.0     2439073\n",
      "3.0     6904181\n",
      "4.0     8085741\n",
      "5.0     5506583\n",
      "          count  log_count\n",
      "0.0  2093886478  21.462288\n",
      "1.0     1118186  13.927218\n",
      "2.0     2439073  14.707129\n",
      "3.0     6904181  15.747638\n",
      "4.0     8085741  15.905613\n",
      "5.0     5506583  15.521455\n"
     ]
    }
   ],
   "source": [
    "# get count\n",
    "df_ratings_cnt_tmp = pd.DataFrame(ratings.groupby('Rating').size(), columns=['count'])\n",
    "print(df_ratings_cnt_tmp)\n",
    "total_cnt = num_users * num_items\n",
    "rating_zero_cnt = total_cnt - ratings.shape[0]\n",
    "df_ratings_cnt = df_ratings_cnt_tmp.append(\n",
    "    pd.DataFrame({'count': rating_zero_cnt}, index=[0.0]),\n",
    "    verify_integrity=True,\n",
    ").sort_index()\n",
    "print(df_ratings_cnt)\n",
    "df_ratings_cnt['log_count'] = np.log(df_ratings_cnt['count'])\n",
    "print(df_ratings_cnt)"
   ]
  },
  {
   "cell_type": "code",
   "execution_count": 12,
   "metadata": {},
   "outputs": [
    {
     "data": {
      "text/plain": [
       "Text(0.5,1,'Score Counts')"
      ]
     },
     "execution_count": 12,
     "metadata": {},
     "output_type": "execute_result"
    },
    {
     "data": {
      "image/png": "[encoded data removed]",
      "text/plain": [
       "<Figure size 864x432 with 1 Axes>"
      ]
     },
     "metadata": {},
     "output_type": "display_data"
    }
   ],
   "source": [
    "ax = df_ratings_cnt[['count']].reset_index().rename(columns={'index': 'rating score'}).plot(\n",
    "    x='rating score',\n",
    "    y='count',\n",
    "    kind='bar',\n",
    "    figsize=(12, 6),\n",
    "    logy=True,\n",
    "    fontsize=12,\n",
    ")\n",
    "ax.set_xlabel(\"Score\")\n",
    "ax.set_ylabel(\"Frequency\")\n",
    "ax.set_title(\"Score Counts\")"
   ]
  },
  {
   "cell_type": "code",
   "execution_count": 13,
   "metadata": {},
   "outputs": [
    {
     "name": "stdout",
     "output_type": "stream",
     "text": [
      "       count\n",
      "Movie       \n",
      "1        547\n",
      "2        145\n",
      "3       2012\n",
      "4        142\n",
      "5       1140\n"
     ]
    },
    {
     "data": {
      "image/png": "[encoded data removed]",
      "text/plain": [
       "<Figure size 864x576 with 1 Axes>"
      ]
     },
     "metadata": {},
     "output_type": "display_data"
    }
   ],
   "source": [
    "# get rating frequency\n",
    "df_movies_cnt = pd.DataFrame(ratings.groupby('Movie').size(), columns=['count'])\n",
    "print(df_movies_cnt.head())\n",
    "# plot rating frequency of all movies\n",
    "ax = df_movies_cnt \\\n",
    "    .sort_values('count', ascending=False) \\\n",
    "    .reset_index(drop=True) \\\n",
    "    .plot(figsize=(12, 8),fontsize=12,color='Blue'\n",
    "    )\n",
    "ax.set_xlabel(\"Movie ID\")\n",
    "ax.set_ylabel(\"Rating Frequencies\")\n",
    "ax.set_title=(\"Rating Frequency of Movies\")"
   ]
  },
  {
   "cell_type": "code",
   "execution_count": 14,
   "metadata": {},
   "outputs": [
    {
     "name": "stdout",
     "output_type": "stream",
     "text": [
      "shape of original ratings data:  (24053764, 4)\n",
      "shape of ratings data after dropping unpopular movies:  (24053422, 4)\n"
     ]
    }
   ],
   "source": [
    "df_movies_cnt['count'].quantile(np.arange(1, 0.5, -0.1))\n",
    "# Show shapes of the data rating through counting \n",
    "popularity_thres = 50\n",
    "popular_movies = list(set(df_movies_cnt.query('count >= @popularity_thres').index))\n",
    "df_ratings_drop_movies = ratings[ratings.Movie.isin(popular_movies)]\n",
    "print('shape of original ratings data: ', ratings.shape)\n",
    "print('shape of ratings data after dropping unpopular movies: ', df_ratings_drop_movies.shape)"
   ]
  },
  {
   "cell_type": "code",
   "execution_count": 15,
   "metadata": {},
   "outputs": [
    {
     "name": "stdout",
     "output_type": "stream",
     "text": [
      "         count\n",
      "User          \n",
      "10          49\n",
      "1000004      1\n",
      "1000027     30\n",
      "1000033    101\n",
      "1000035     20\n"
     ]
    },
    {
     "data": {
      "image/png": "[encoded data removed]",
      "text/plain": [
       "<Figure size 864x576 with 1 Axes>"
      ]
     },
     "metadata": {},
     "output_type": "display_data"
    }
   ],
   "source": [
    "# get number of ratings given by every user\n",
    "df_users_cnt = pd.DataFrame(df_ratings_drop_movies.groupby('User').size(), columns=['count'])\n",
    "print(df_users_cnt.head())# plot rating frequency of all movies\n",
    "ax = df_users_cnt \\\n",
    "    .sort_values('count', ascending=False) \\\n",
    "    .reset_index(drop=True) \\\n",
    "    .plot(\n",
    "        figsize=(12, 8),\n",
    "        fontsize=12\n",
    "    )\n",
    "ax.set_xlabel(\"user Id\")\n",
    "ax.set_ylabel(\"number of ratings\")\n",
    "ax.set_title=(\"Rating Frequency of All Users\")"
   ]
  },
  {
   "cell_type": "code",
   "execution_count": 16,
   "metadata": {},
   "outputs": [
    {
     "data": {
      "text/plain": [
       "1.00    4459.0\n",
       "0.95     190.0\n",
       "0.90     132.0\n",
       "0.85     100.0\n",
       "0.80      79.0\n",
       "0.75      64.0\n",
       "0.70      52.0\n",
       "0.65      43.0\n",
       "0.60      36.0\n",
       "0.55      29.0\n",
       "Name: count, dtype: float64"
      ]
     },
     "execution_count": 16,
     "metadata": {},
     "output_type": "execute_result"
    }
   ],
   "source": [
    "df_users_cnt['count'].quantile(np.arange(1, 0.5, -0.05))"
   ]
  },
  {
   "cell_type": "code",
   "execution_count": 17,
   "metadata": {},
   "outputs": [
    {
     "name": "stdout",
     "output_type": "stream",
     "text": [
      "original rating:  (24053764, 4)\n",
      "after dropping inactive users:  (18687764, 4)\n",
      "  (0, 118)\t4.0\n",
      "  (0, 544)\t4.0\n",
      "  (0, 590)\t1.0\n",
      "  (0, 740)\t4.0\n",
      "  (0, 1344)\t5.0\n",
      "  (0, 2039)\t3.0\n",
      "  (0, 2832)\t3.0\n",
      "  (0, 3676)\t3.0\n",
      "  (0, 4034)\t4.0\n",
      "  (0, 4490)\t3.0\n",
      "  (0, 4790)\t4.0\n",
      "  (0, 4933)\t3.0\n",
      "  (0, 5315)\t3.0\n",
      "  (0, 6225)\t1.0\n",
      "  (0, 6645)\t1.0\n",
      "  (0, 6650)\t5.0\n",
      "  (0, 6982)\t3.0\n",
      "  (0, 7166)\t1.0\n",
      "  (0, 7167)\t5.0\n",
      "  (0, 7234)\t4.0\n",
      "  (0, 7776)\t5.0\n",
      "  (0, 7797)\t3.0\n",
      "  (0, 8282)\t4.0\n",
      "  (0, 8313)\t3.0\n",
      "  (0, 8523)\t4.0\n",
      "  :\t:\n",
      "  (4490, 137224)\t3.0\n",
      "  (4490, 137245)\t2.0\n",
      "  (4490, 137384)\t3.0\n",
      "  (4490, 139126)\t3.0\n",
      "  (4490, 140039)\t4.0\n",
      "  (4490, 140545)\t5.0\n",
      "  (4490, 140682)\t3.0\n",
      "  (4490, 140980)\t3.0\n",
      "  (4490, 141476)\t1.0\n",
      "  (4490, 141708)\t2.0\n",
      "  (4490, 142215)\t2.0\n",
      "  (4490, 143180)\t3.0\n",
      "  (4490, 144149)\t4.0\n",
      "  (4490, 144240)\t3.0\n",
      "  (4490, 144301)\t1.0\n",
      "  (4490, 144578)\t3.0\n",
      "  (4490, 144720)\t4.0\n",
      "  (4490, 146008)\t5.0\n",
      "  (4490, 146246)\t2.0\n",
      "  (4490, 146479)\t1.0\n",
      "  (4490, 147031)\t2.0\n",
      "  (4490, 147198)\t2.0\n",
      "  (4490, 147291)\t2.0\n",
      "  (4490, 147384)\t3.0\n",
      "  (4490, 147650)\t4.0\n"
     ]
    }
   ],
   "source": [
    "# filter data\n",
    "ratings_thres = 50\n",
    "active_users = list(set(df_users_cnt.query('count >= @ratings_thres').index))\n",
    "df_ratings_drop_users = df_ratings_drop_movies[df_ratings_drop_movies.User.isin(active_users)]\n",
    "print('original rating: ', ratings.shape)\n",
    "print('after dropping inactive users: ', df_ratings_drop_users.shape)\n",
    "# pivot \n",
    "movie_user_mat = df_ratings_drop_users.pivot(index='Movie', columns='User', values='Rating').fillna(0)\n",
    "# movie title indexer\n",
    "movie_to_idx = {\n",
    "    movie: i for i, movie in \n",
    "    enumerate(list(df_title.set_index('Movie_Id').loc[movie_user_mat.index].Name))\n",
    "}\n",
    "# sparse matrix \n",
    "movie_user_mat_sparse = csr_matrix(movie_user_mat.values)\n",
    "print(movie_user_mat_sparse)"
   ]
  },
  {
   "cell_type": "code",
   "execution_count": 33,
   "metadata": {},
   "outputs": [
    {
     "name": "stdout",
     "output_type": "stream",
     "text": [
      "env: JOBLIB_TEMP_FOLDER=/tmp\n"
     ]
    },
    {
     "data": {
      "text/plain": [
       "NearestNeighbors(algorithm='brute', leaf_size=30, metric='cosine',\n",
       "         metric_params=None, n_jobs=-1, n_neighbors=20, p=2, radius=1.0)"
      ]
     },
     "execution_count": 33,
     "metadata": {},
     "output_type": "execute_result"
    }
   ],
   "source": [
    "%env JOBLIB_TEMP_FOLDER=/tmp\n",
    "# define model\n",
    "model_knn = NearestNeighbors(metric='cosine', algorithm='brute', n_neighbors=20, n_jobs=-1)\n",
    "# fit\n",
    "model_knn.fit(movie_user_mat_sparse)"
   ]
  },
  {
   "cell_type": "code",
   "execution_count": 25,
   "metadata": {},
   "outputs": [],
   "source": [
    "def fuzzy_matching(mapper, fav_movie, verbose=True):\n",
    "    \"\"\"\n",
    "    return the closest match via fuzzy ratio. If no match found, return None\n",
    "    \n",
    "    Parameters\n",
    "    ----------    \n",
    "    mapper: dict, map movie title name to index of the movie in data\n",
    "\n",
    "    fav_movie: str, name of user input movie\n",
    "    \n",
    "    verbose: bool, print log if True\n",
    "\n",
    "    Return\n",
    "    ------\n",
    "    index of the closest match\n",
    "    \"\"\"\n",
    "    match_tuple = []\n",
    "    # get match\n",
    "    for title, idx in mapper.items():\n",
    "        ratio = fuzz.ratio(title.lower(), fav_movie.lower())\n",
    "        if ratio >= 60:\n",
    "            match_tuple.append((title, idx, ratio))\n",
    "    # sort\n",
    "    match_tuple = sorted(match_tuple, key=lambda x: x[2])[::-1]\n",
    "    if not match_tuple:\n",
    "        print('No match!')\n",
    "        return\n",
    "    if verbose:\n",
    "        print('Those are your matches: {0}\\n'.format([x[0] for x in match_tuple]))\n",
    "    return match_tuple[0][1]\n",
    "\n",
    "\n",
    "\n",
    "def make_recommendation(model_knn, data, mapper, fav_movie, n_recommendations):\n",
    "    \"\"\"\n",
    "    return top n similar movie recommendations based on user's input movie\n",
    "\n",
    "\n",
    "    Parameters\n",
    "    ----------\n",
    "    model_knn: sklearn model, knn model\n",
    "\n",
    "    data: movie-user matrix\n",
    "\n",
    "    mapper: dict, map movie title name to index of the movie in data\n",
    "\n",
    "    fav_movie: str, name of user input movie\n",
    "\n",
    "    n_recommendations: int, top n recommendations\n",
    "\n",
    "    Return\n",
    "    ------\n",
    "    list of top n similar movie recommendations\n",
    "    \"\"\"\n",
    "    # fit\n",
    "    model_knn.fit(data)\n",
    "    # get input movie index\n",
    "    print('Input your favorate Movie:', fav_movie)\n",
    "    idx = fuzzy_matching(mapper, fav_movie, verbose=True)\n",
    "    # inference\n",
    "    print('Those are your recommendations')\n",
    "    print('......\\n')\n",
    "    distances, indices = model_knn.kneighbors(data[idx], n_neighbors=n_recommendations+1)\n",
    "    # get list of raw idx of recommendations\n",
    "    raw_recommends = \\\n",
    "        sorted(list(zip(indices.squeeze().tolist(), distances.squeeze().tolist())), key=lambda x: x[1])[:0:-1]\n",
    "    # get reverse mapper\n",
    "    reverse_mapper = {v: k for k, v in mapper.items()}\n",
    "    # print recommendations\n",
    "    print('Recommendations for {}:'.format(fav_movie))\n",
    "    for i, (idx, dist) in enumerate(raw_recommends):\n",
    "        print('{0}: {1}, the distance is {2}'.format(i+1, reverse_mapper[idx], dist))"
   ]
  },
  {
   "cell_type": "code",
   "execution_count": 39,
   "metadata": {},
   "outputs": [
    {
     "name": "stdout",
     "output_type": "stream",
     "text": [
      "Input your favorate Movie: Ed Wood\n",
      "Those are your matches: ['Ed Wood', 'Be Good', 'Naked World']\n",
      "\n",
      "Those are your recommendations\n",
      "......\n",
      "\n",
      "Recommendations for Ed Wood:\n",
      "1: Bowling for Columbine, the distance is 0.6204010804519049\n",
      "2: Clerks, the distance is 0.6069289311861509\n",
      "3: Heathers, the distance is 0.6059585885510961\n",
      "4: High Fidelity, the distance is 0.6049194832721323\n",
      "5: Fear and Loathing in Las Vegas, the distance is 0.6042655983991281\n",
      "6: American Beauty, the distance is 0.5978364190026189\n",
      "7: Eternal Sunshine of the Spotless Mind, the distance is 0.5944012090757069\n",
      "8: Reservoir Dogs, the distance is 0.5877564869249745\n",
      "9: Being John Malkovich, the distance is 0.5437149190780948\n",
      "10: This Is Spinal Tap, the distance is 0.5426127504323175\n"
     ]
    }
   ],
   "source": [
    "my_favorite = 'Ed Wood'\n",
    "\n",
    "make_recommendation(\n",
    "    model_knn=model_knn,\n",
    "    data=movie_user_mat_sparse,\n",
    "    fav_movie=my_favorite,\n",
    "    mapper=movie_to_idx,\n",
    "    n_recommendations=10)"
   ]
  },
  {
   "cell_type": "code",
   "execution_count": 35,
   "metadata": {},
   "outputs": [
    {
     "name": "stdout",
     "output_type": "stream",
     "text": [
      "There is about 97.19% of ratings in our data is missing\n"
     ]
    }
   ],
   "source": [
    "# calcuate total number of entries in the movie-user matrix\n",
    "num_entries = movie_user_mat.shape[0] * movie_user_mat.shape[1]\n",
    "# calculate total number of entries with zero values\n",
    "num_zeros = (movie_user_mat==0).sum(axis=1).sum()\n",
    "# calculate ratio of number of zeros to number of entries\n",
    "ratio_zeros = num_zeros / num_entries\n",
    "print('There is about {:.2%} of ratings in our data is missing'.format(ratio_zeros))"
   ]
  }
 ],
 "metadata": {
  "kernelspec": {
   "display_name": "Python 3",
   "language": "python",
   "name": "python3"
  },
  "language_info": {
   "codemirror_mode": {
    "name": "ipython",
    "version": 3
   },
   "file_extension": ".py",
   "mimetype": "text/x-python",
   "name": "python",
   "nbconvert_exporter": "python",
   "pygments_lexer": "ipython3",
   "version": "3.6.5"
  }
 },
 "nbformat": 4,
 "nbformat_minor": 2
}
